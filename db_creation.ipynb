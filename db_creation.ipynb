{
 "cells": [
  {
   "cell_type": "code",
   "execution_count": 2,
   "metadata": {},
   "outputs": [],
   "source": [
    "import pandas as pd\n",
    "import numpy as np\n",
    "import matplotlib.pyplot as plt\n",
    "import sqlite3"
   ]
  },
  {
   "cell_type": "code",
   "execution_count": null,
   "metadata": {},
   "outputs": [],
   "source": []
  },
  {
   "cell_type": "markdown",
   "metadata": {},
   "source": [
    "## Creation of DataBase"
   ]
  },
  {
   "cell_type": "code",
   "execution_count": null,
   "metadata": {},
   "outputs": [],
   "source": [
    "import sqlite3\n",
    "\n",
    "# Connect to the SQLite database\n",
    "conn = sqlite3.connect('VS_GROUP_DataBase.db')\n",
    "cursor = conn.cursor()\n",
    "\n",
    "# Create customers table with unique CustomerID\n",
    "cursor.execute('''CREATE TABLE customers (\n",
    "                    CustomerID VARCHAR PRIMARY KEY,\n",
    "                    CustomerName VARCHAR,\n",
    "                    Segment TEXT,\n",
    "                    UNIQUE(CustomerID)  -- Ensure CustomerID is unique\n",
    "                )''')\n",
    "\n",
    "# Create address table with foreign key reference to customers and unique AddressID\n",
    "cursor.execute('''CREATE TABLE address (\n",
    "                    AddressID VARCHAR PRIMARY KEY,\n",
    "                    CustomerID VARCHAR,\n",
    "                    Country VARCHR,\n",
    "                    Region VARCHAR,\n",
    "                    State VARCHAR,\n",
    "                    City VARCHAR,\n",
    "                    PostalCode INTEGER,\n",
    "                    FOREIGN KEY (CustomerID) REFERENCES customers(CustomerID),\n",
    "                    UNIQUE(AddressID)  -- Ensure AddressID is unique\n",
    "                )''')\n",
    "\n",
    "# Create products table with unique ProductID\n",
    "cursor.execute('''CREATE TABLE products (\n",
    "                    ProductID VARCHAR PRIMARY KEY,\n",
    "                    ProductName VARCHAR,\n",
    "                    Category TEXT,\n",
    "                    SubCategory TEXT,\n",
    "                    ProductPrice REAL,                 \n",
    "                    SupplierPrice REAL,\n",
    "                    UNIQUE(ProductID)  -- Ensure ProductID is unique\n",
    "                )''')\n",
    "\n",
    "# Create orders table with primary key, foreign key reference to customers, and unique OrderID\n",
    "cursor.execute('''CREATE TABLE orders (\n",
    "                    OrderID VARCHAR PRIMARY KEY,\n",
    "                    OrderDate DATE,\n",
    "                    ShipDate TEXT,\n",
    "                    ShipMode TEXT,\n",
    "                    AddressID VARCHAR,\n",
    "                    CustomerID VARCHAR,                   \n",
    "                    FOREIGN KEY (AddressID) REFERENCES addresss(AddressID),\n",
    "                    FOREIGN KEY (CustomerID) REFERENCES customers(CustomerID)\n",
    "                    UNIQUE(OrderID)  -- Ensure OrderID is unique\n",
    "                )''')\n",
    "\n",
    "\n",
    "\n",
    "\t\n",
    "# Create order_details table with primary key, foreign key reference to customers, orders and products\n",
    "cursor.execute('''CREATE TABLE order_details (\n",
    "                    OrderDetailsID INTEGER PRIMARY KEY, \n",
    "                    OrderID VARCHAR, \n",
    "                    ProductID VARCHAR\n",
    "                    Discount REAL,\n",
    "                    Quantity INTEGER,\n",
    "                    FOREIGN KEY (OrderID) REFERENCES orders(OrderID),\n",
    "                    FOREIGN KEY (ProductID) REFERENCES products(ProductID)\n",
    "                )''')\n",
    "\n",
    "# Commit changes and close connection\n",
    "conn.commit()\n",
    "conn.close()\n"
   ]
  }
 ],
 "metadata": {
  "kernelspec": {
   "display_name": "base",
   "language": "python",
   "name": "python3"
  },
  "language_info": {
   "codemirror_mode": {
    "name": "ipython",
    "version": 3
   },
   "file_extension": ".py",
   "mimetype": "text/x-python",
   "name": "python",
   "nbconvert_exporter": "python",
   "pygments_lexer": "ipython3",
   "version": "3.11.7"
  }
 },
 "nbformat": 4,
 "nbformat_minor": 2
}
