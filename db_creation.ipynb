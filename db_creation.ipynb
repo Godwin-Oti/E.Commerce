{
 "cells": [
  {
   "cell_type": "code",
   "execution_count": 1,
   "metadata": {},
   "outputs": [],
   "source": [
    "import pandas as pd\n",
    "import numpy as np\n",
    "import matplotlib.pyplot as plt\n",
    "import sqlite3"
   ]
  },
  {
   "cell_type": "code",
   "execution_count": null,
   "metadata": {},
   "outputs": [],
   "source": [
    "\"\"\"\n",
    "In Superstore_TABLE_CONVERSION.ipynb  I created a DataBase and populated the tables directly from DataFrame without exporting them to csv.\n",
    "Alternatively, here DataBase is being created and Populated with csv file\n",
    "\n",
    "\"\"\""
   ]
  },
  {
   "cell_type": "markdown",
   "metadata": {},
   "source": [
    "## Creation of DataBase"
   ]
  },
  {
   "cell_type": "code",
   "execution_count": null,
   "metadata": {},
   "outputs": [],
   "source": []
  },
  {
   "cell_type": "code",
   "execution_count": 2,
   "metadata": {},
   "outputs": [],
   "source": [
    "import sqlite3\n",
    "\n",
    "# Connect to the SQLite database\n",
    "conn = sqlite3.connect('VS_GROUP_DataBase.db')\n",
    "cursor = conn.cursor()\n",
    "\n",
    "# Create customers table with unique CustomerID\n",
    "cursor.execute('''CREATE TABLE customers (\n",
    "                    CustomerID VARCHAR PRIMARY KEY,\n",
    "                    CustomerName VARCHAR,\n",
    "                    Segment TEXT,\n",
    "                    UNIQUE(CustomerID)  -- Ensure CustomerID is unique\n",
    "                )''')\n",
    "\n",
    "# Create address table with foreign key reference to customers and unique AddressID\n",
    "cursor.execute('''CREATE TABLE address (\n",
    "                    AddressID VARCHAR PRIMARY KEY,\n",
    "                    CustomerID VARCHAR,\n",
    "                    Country VARCHR,\n",
    "                    Region VARCHAR,\n",
    "                    State VARCHAR,\n",
    "                    City VARCHAR,\n",
    "                    PostalCode INTEGER,\n",
    "                    FOREIGN KEY (CustomerID) REFERENCES customers(CustomerID),\n",
    "                    UNIQUE(AddressID)  -- Ensure AddressID is unique\n",
    "                )''')\n",
    "\n",
    "# Create products table with unique ProductID\n",
    "cursor.execute('''CREATE TABLE products (\n",
    "                    ProductID VARCHAR PRIMARY KEY,\n",
    "                    ProductName VARCHAR,\n",
    "                    Category TEXT,\n",
    "                    SubCategory TEXT,\n",
    "                    ProductPrice REAL,                 \n",
    "                    SupplierPrice REAL,\n",
    "                    UNIQUE(ProductID)  -- Ensure ProductID is unique\n",
    "                )''')\n",
    "\n",
    "# Create orders table with primary key, foreign key reference to customers, and unique OrderID\n",
    "cursor.execute('''CREATE TABLE orders (\n",
    "                    OrderID VARCHAR PRIMARY KEY,\n",
    "                    OrderDate DATE,\n",
    "                    ShipDate TEXT,\n",
    "                    ShipMode TEXT,\n",
    "                    AddressID VARCHAR,\n",
    "                    CustomerID VARCHAR,                   \n",
    "                    FOREIGN KEY (AddressID) REFERENCES addresss(AddressID),\n",
    "                    FOREIGN KEY (CustomerID) REFERENCES customers(CustomerID)\n",
    "                    UNIQUE(OrderID)  -- Ensure OrderID is unique\n",
    "                )''')\n",
    "\n",
    "\n",
    "\n",
    "\t\n",
    "# Create order_details table with primary key, foreign key reference to customers, orders and products\n",
    "cursor.execute('''CREATE TABLE order_details (\n",
    "                    OrderDetailsID VARCHAR PRIMARY KEY, \n",
    "                    OrderID VARCHAR, \n",
    "                    ProductID VARCHAR,\n",
    "                    Discount REAL,\n",
    "                    Quantity INTEGER,\n",
    "                    FOREIGN KEY (OrderID) REFERENCES orders(OrderID),\n",
    "                    FOREIGN KEY (ProductID) REFERENCES products(ProductID)\n",
    "                )''')\n",
    "\n",
    "# Commit changes and close connection\n",
    "conn.commit()\n",
    "conn.close()\n"
   ]
  },
  {
   "cell_type": "markdown",
   "metadata": {},
   "source": [
    "## Importing of csv"
   ]
  },
  {
   "cell_type": "code",
   "execution_count": 3,
   "metadata": {},
   "outputs": [],
   "source": [
    "customers = pd.read_csv(\"customers.csv\", encoding='latin-1')"
   ]
  },
  {
   "cell_type": "code",
   "execution_count": 4,
   "metadata": {},
   "outputs": [],
   "source": [
    "address=pd.read_csv(\"address.csv\", encoding='latin-1')"
   ]
  },
  {
   "cell_type": "code",
   "execution_count": 5,
   "metadata": {},
   "outputs": [],
   "source": [
    "orders=pd.read_csv(\"orders.csv\", encoding='latin-1')"
   ]
  },
  {
   "cell_type": "code",
   "execution_count": 6,
   "metadata": {},
   "outputs": [],
   "source": [
    "order_details=pd.read_csv(\"order_details.csv\", encoding='latin-1')"
   ]
  },
  {
   "cell_type": "code",
   "execution_count": 7,
   "metadata": {},
   "outputs": [],
   "source": [
    "products=pd.read_csv(\"products.csv\", encoding='latin-1')"
   ]
  },
  {
   "cell_type": "markdown",
   "metadata": {},
   "source": [
    "## Populating the DataBase with Data from CSV"
   ]
  },
  {
   "cell_type": "code",
   "execution_count": 3,
   "metadata": {},
   "outputs": [],
   "source": [
    "import pandas as pd\n",
    "import sqlite3\n",
    "\n",
    "\n",
    "# List of CSV files and corresponding table names\n",
    "csv_files = ['customers.csv', 'address.csv', 'orders.csv','order_details.csv','products.csv']  \n",
    "table_names = ['customers', 'address', 'orders','order_details','products'] \n",
    "\n",
    "# Connect to the SQLite database\n",
    "conn = sqlite3.connect('VS_GROUP_DataBase.db')  #\n",
    "\n",
    "# Iterate over each CSV file and corresponding table name\n",
    "for csv_file, table_name in zip(csv_files, table_names):\n",
    "    # Read the CSV file into a DataFrame\n",
    "    df = pd.read_csv(csv_file)\n",
    "\n",
    "    # Write the DataFrame to a SQLite table\n",
    "    df.to_sql(table_name, conn, if_exists='append', index=False)\n",
    "\n",
    "# Commit changes and close the connection\n",
    "conn.commit()\n",
    "conn.close()\n"
   ]
  }
 ],
 "metadata": {
  "kernelspec": {
   "display_name": "base",
   "language": "python",
   "name": "python3"
  },
  "language_info": {
   "codemirror_mode": {
    "name": "ipython",
    "version": 3
   },
   "file_extension": ".py",
   "mimetype": "text/x-python",
   "name": "python",
   "nbconvert_exporter": "python",
   "pygments_lexer": "ipython3",
   "version": "3.11.7"
  }
 },
 "nbformat": 4,
 "nbformat_minor": 2
}
